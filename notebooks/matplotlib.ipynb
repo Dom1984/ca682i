{
  "nbformat": 4,
  "nbformat_minor": 0,
  "metadata": {
    "kernelspec": {
      "name": "python3",
      "display_name": "Python 3"
    },
    "colab": {
      "name": "matplotlib.ipynb",
      "provenance": [],
      "include_colab_link": true
    }
  },
  "cells": [
    {
      "cell_type": "markdown",
      "metadata": {
        "id": "view-in-github",
        "colab_type": "text"
      },
      "source": [
        "<a href=\"https://colab.research.google.com/github/suzannelittle/ca682i/blob/master/notebooks/matplotlib.ipynb\" target=\"_parent\"><img src=\"https://colab.research.google.com/assets/colab-badge.svg\" alt=\"Open In Colab\"/></a>"
      ]
    },
    {
      "cell_type": "markdown",
      "metadata": {
        "id": "WMFpPWLwlMxy",
        "colab_type": "text"
      },
      "source": [
        "# Data Visualisation with matplotlib:"
      ]
    },
    {
      "cell_type": "markdown",
      "metadata": {
        "id": "6infb__IlMx0",
        "colab_type": "text"
      },
      "source": [
        "matplotlib is a 2D plotting library for Python and NumPy (Python's numerical mathematical extension). It is the most popular Python library for 2D graphics, with its main aim being <i>to make easy things easy and hard things possible.</i> With just a few lines of code, one can generate line graphs, histograms, bar charts, and scatterplots, amongst many other types of graph.\n",
        "\n",
        "I am going to be focusing on the <i>pyplot</i> interface. <i>pyplot</i> provides a convenient interface to the object-oriented plotting library of matplotlib and is based quite closely on MATLAB. It is a collection of command style functions, each of which make some change to the figure (e.g. creation of a figure, plotting of lines, addition of labels)."
      ]
    },
    {
      "cell_type": "markdown",
      "metadata": {
        "id": "stZxVywhlMx0",
        "colab_type": "text"
      },
      "source": [
        "## matplotlib.pyplot"
      ]
    },
    {
      "cell_type": "markdown",
      "metadata": {
        "id": "bJbDBeDolMx1",
        "colab_type": "text"
      },
      "source": [
        "<b>Before we start:</b> If you are ever plotting with matplotlib using Jupyter Notebook, you must execute <i>%matplotlib</i> before executing any code so that the Jupyter kernel is set up to display the output of matplotlib code in the notebook's cells. To have the output displayed <i>inline</i> with the notebook (recommended) below the code cell that produced it (and also store the resulting plot in the cell), execute the following command:"
      ]
    },
    {
      "cell_type": "code",
      "metadata": {
        "id": "Eo2Qw_k7lMx1",
        "colab_type": "code",
        "colab": {}
      },
      "source": [
        "%matplotlib inline"
      ],
      "execution_count": 1,
      "outputs": []
    },
    {
      "cell_type": "markdown",
      "metadata": {
        "id": "Mju-cvYIlMx5",
        "colab_type": "text"
      },
      "source": [
        "Let's start with a basic example of plotting with <i>pyplot</i>:\n",
        "\n",
        "- Firstly, import the <i>pyplot</i> module as follows:"
      ]
    },
    {
      "cell_type": "code",
      "metadata": {
        "id": "36traDzOlMx5",
        "colab_type": "code",
        "colab": {}
      },
      "source": [
        "import matplotlib.pyplot as plt"
      ],
      "execution_count": 2,
      "outputs": []
    },
    {
      "cell_type": "markdown",
      "metadata": {
        "id": "hshhuZGrlMx8",
        "colab_type": "text"
      },
      "source": [
        "> <b>Note:</b> The pyplot module can be imported as any name but the convention you will see used in most publications and online materials is to name it <b>plt</b>.\n",
        "\n",
        "- Similar to the methods of the <i>bokeh.plotting</i> interface, the <i>plot()</i> method in <i>pyplot</i> takes in as parameters lists of x and y co-ordinates; however, a difference between the two interfaces lies in the fact that in <i>pyplot</i>, for each pair of x and y co-ordinates, there exists an optional third formatting parameter. This parameter is passed in as a string in the general form of '(colour)(shape)'. \n",
        "\n",
        "For example, if we wish to plot green squares, we pass in the parameter 'gs' after the pair of x and y co-ordinates that the squares are representing, 'g' for 'green' and 's' for squares. See below:"
      ]
    },
    {
      "cell_type": "code",
      "metadata": {
        "id": "u40cCF8OlMx8",
        "colab_type": "code",
        "colab": {
          "base_uri": "https://localhost:8080/",
          "height": 269
        },
        "outputId": "c6044d87-5739-47e9-d550-8f2909e10919"
      },
      "source": [
        "#Define the x and y co-ordinates (arbitrary numbers in this case)\n",
        "x = [1,2,3,4]\n",
        "y = [1,2,3,4]\n",
        "\n",
        "#Plot the markers in the positions defined above in the given format\n",
        "plt.plot(x, y, 'gs')\n",
        "\n",
        "#Set the range of the x and y axes (x and y pairs). This is useful to ensure none of the markers are cut off. \n",
        "plt.axis([0,5,0,6])\n",
        "\n",
        "#Display the plot\n",
        "plt.show()"
      ],
      "execution_count": 3,
      "outputs": [
        {
          "output_type": "display_data",
          "data": {
            "image/png": "[encoded data removed]",
            "text/plain": [
              "<Figure size 432x288 with 1 Axes>"
            ]
          },
          "metadata": {
            "tags": [],
            "needs_background": "light"
          }
        }
      ]
    },
    {
      "cell_type": "markdown",
      "metadata": {
        "collapsed": true,
        "id": "4_O1q3F3lMx_",
        "colab_type": "text"
      },
      "source": [
        "There are many different styles and colors that you can apply to the markers through this third parameter, which are detailed here: http://matplotlib.org/api/pyplot_api.html#matplotlib.pyplot.plot\n",
        "> <b>Note:</b> The default means of representing data when no type of marker is specified is a line."
      ]
    },
    {
      "cell_type": "code",
      "metadata": {
        "id": "WID_8hgFlMx_",
        "colab_type": "code",
        "colab": {
          "base_uri": "https://localhost:8080/",
          "height": 282
        },
        "outputId": "ed6b2895-c112-4185-94fd-d92b6f08c877"
      },
      "source": [
        "#Plotting with no third style parameter\n",
        "plt.plot(x,y)\n",
        "plt.show"
      ],
      "execution_count": 4,
      "outputs": [
        {
          "output_type": "execute_result",
          "data": {
            "text/plain": [
              "<function matplotlib.pyplot.show>"
            ]
          },
          "metadata": {
            "tags": []
          },
          "execution_count": 4
        },
        {
          "output_type": "display_data",
          "data": {
            "image/png": "[encoded data removed]",
            "text/plain": [
              "<Figure size 432x288 with 1 Axes>"
            ]
          },
          "metadata": {
            "tags": [],
            "needs_background": "light"
          }
        }
      ]
    },
    {
      "cell_type": "markdown",
      "metadata": {
        "id": "OGtToL27lMyC",
        "colab_type": "text"
      },
      "source": [
        "The <i>plot()</i> function accepts as many x, y pairs (plus optional third style parameter with each pair) as the user wants. As you may guess, doing so results in numerous sets of markers on the same plot."
      ]
    },
    {
      "cell_type": "code",
      "metadata": {
        "id": "R4IHTF19lMyC",
        "colab_type": "code",
        "colab": {
          "base_uri": "https://localhost:8080/",
          "height": 269
        },
        "outputId": "db2756d0-d0f5-4ad0-db37-2af77a2362d4"
      },
      "source": [
        "#Define data\n",
        "x1 = [1,2,3,4]\n",
        "y1 = [1,2,3,4]\n",
        "\n",
        "x2 = [10,11,12,13]\n",
        "y2 = [13,12,11,10]\n",
        "\n",
        "x3 = [3,6,9,12,15]\n",
        "y3 = [20,15,10,5,0]\n",
        "\n",
        "#Plot multiple sets of markers\n",
        "plt.plot(x1, y1, 'gs', x2, y2, 'ro', x3, y3)\n",
        "\n",
        "#Set the x and y range\n",
        "plt.axis([0,15,0,20])\n",
        "\n",
        "#Display the plot\n",
        "plt.show()"
      ],
      "execution_count": 5,
      "outputs": [
        {
          "output_type": "display_data",
          "data": {
            "image/png": "[encoded data removed]",
            "text/plain": [
              "<Figure size 432x288 with 1 Axes>"
            ]
          },
          "metadata": {
            "tags": [],
            "needs_background": "light"
          }
        }
      ]
    },
    {
      "cell_type": "markdown",
      "metadata": {
        "id": "pH_Y0qrilMyE",
        "colab_type": "text"
      },
      "source": [
        "Generally when using matplotlib, it's easier to use <i>numpy</i> arrays as opposed to lists. First, you will have to make the necessary import:"
      ]
    },
    {
      "cell_type": "code",
      "metadata": {
        "id": "RdR-fY6vlMyF",
        "colab_type": "code",
        "colab": {}
      },
      "source": [
        "import numpy as np"
      ],
      "execution_count": 6,
      "outputs": []
    },
    {
      "cell_type": "markdown",
      "metadata": {
        "collapsed": true,
        "id": "tOLaPpYglMyH",
        "colab_type": "text"
      },
      "source": [
        "Once you have done this, you can use numpy's <i>arange()</i> function to return an array of values in a given range. "
      ]
    },
    {
      "cell_type": "code",
      "metadata": {
        "id": "Pj8BNJ8plMyH",
        "colab_type": "code",
        "colab": {}
      },
      "source": [
        "# Returns an array which starts at 0, ends on the number returned just before 8, and is split into intervals of length 0.5 \n",
        "x = np.arange(0., 8., 0.5)"
      ],
      "execution_count": 7,
      "outputs": []
    },
    {
      "cell_type": "markdown",
      "metadata": {
        "id": "XOJMBrKklMyK",
        "colab_type": "text"
      },
      "source": [
        "Then plot a few variations of the above array along with a few different formatting styles:"
      ]
    },
    {
      "cell_type": "code",
      "metadata": {
        "id": "dWG78yMzlMyK",
        "colab_type": "code",
        "colab": {
          "base_uri": "https://localhost:8080/",
          "height": 265
        },
        "outputId": "1eb7d784-40f8-4d77-9493-64cff28a976b"
      },
      "source": [
        "plt.plot(x, x, 'b-', x, x**2, 'r*', x, x**3, 'y^', linewidth=1.5)\n",
        "plt.show()"
      ],
      "execution_count": 8,
      "outputs": [
        {
          "output_type": "display_data",
          "data": {
            "image/png": "[encoded data removed]",
            "text/plain": [
              "<Figure size 432x288 with 1 Axes>"
            ]
          },
          "metadata": {
            "tags": [],
            "needs_background": "light"
          }
        }
      ]
    },
    {
      "cell_type": "markdown",
      "metadata": {
        "id": "mtjqF8BvlMyf",
        "colab_type": "text"
      },
      "source": [
        "### Adding some text to our plots:"
      ]
    },
    {
      "cell_type": "markdown",
      "metadata": {
        "id": "jbqDA8jrlMyf",
        "colab_type": "text"
      },
      "source": [
        "So far we have been creating a variety of different plots, however none have had any text element. Having text on plots is very important, whether it be to provide a title, to label the x and y axes, to create a legend, or to highlight a point of interest. Text serves the purpose of clarifying ambiguities, explaining what different things mean, and emphasising important points.\n",
        "\n",
        "As with lines, text objects have many attributes which can be set by including the appopriate <i>keywords arguments</i> in the function that adds the text to the plot. See here for the full list of attributes: http://matplotlib.org/api/text_api.html#matplotlib.text.Text\n",
        "\n",
        "The following are a few examples of different ways of adding text to your plots using matplotlib:"
      ]
    },
    {
      "cell_type": "code",
      "metadata": {
        "id": "ROlH9CunlMyg",
        "colab_type": "code",
        "colab": {
          "base_uri": "https://localhost:8080/",
          "height": 303
        },
        "outputId": "e82ffc75-1a00-467f-beb0-2e871c763d8a"
      },
      "source": [
        "plt.plot([1,2,3,4,5,6],[2,2,3,4,3,2],[1,2,3,4,5,6],[2,2,3,4,3,2], 'ro')\n",
        "plt.axis([1,6,1,6])\n",
        "\n",
        "#Add a title\n",
        "plt.title('Average Daily Temperature', fontsize=18)\n",
        "#Add a label for the x-axis\n",
        "plt.xlabel('Day', fontsize=14)\n",
        "#Add a label for the y-axis\n",
        "plt.ylabel('Temperature', fontsize=14)\n",
        "#Add a comment about a particular part of the plot\n",
        "plt.text(1.1, 3.5, 'Temperature starts to rise')\n",
        "#Add another comment\n",
        "plt.text(5, 1.5, 'Drops again')\n",
        "#Point out a point of interest in the plot\n",
        "plt.annotate('Highest Point', xy=(4,4), xytext=(3.5,5), arrowprops=dict(facecolor='black', shrink=0.05), fontsize=13)\n",
        "\n",
        "plt.show()"
      ],
      "execution_count": 9,
      "outputs": [
        {
          "output_type": "display_data",
          "data": {
            "image/png": "[encoded data removed]",
            "text/plain": [
              "<Figure size 432x288 with 1 Axes>"
            ]
          },
          "metadata": {
            "tags": [],
            "needs_background": "light"
          }
        }
      ]
    },
    {
      "cell_type": "markdown",
      "metadata": {
        "collapsed": true,
        "id": "ccB45llelMyh",
        "colab_type": "text"
      },
      "source": [
        "Another means of visually representing data in <i>matplotlib</i> is using bar charts. These can be created easily as follows:"
      ]
    },
    {
      "cell_type": "code",
      "metadata": {
        "id": "kBTT-SK6lMyi",
        "colab_type": "code",
        "colab": {
          "base_uri": "https://localhost:8080/",
          "height": 285
        },
        "outputId": "b8ad13d9-022f-44a8-c7ac-d8a4a0f7903a"
      },
      "source": [
        "x = [1,3,5,7,9]\n",
        "y = [4,7,2,6,7]\n",
        "\n",
        "plt.bar(x, y)\n",
        "plt.axis([0,11,0,10])\n",
        "plt.title(\"Sample Bar Chart\", fontsize=18)\n",
        "\n",
        "plt.show()"
      ],
      "execution_count": 10,
      "outputs": [
        {
          "output_type": "display_data",
          "data": {
            "image/png": "[encoded data removed]",
            "text/plain": [
              "<Figure size 432x288 with 1 Axes>"
            ]
          },
          "metadata": {
            "tags": [],
            "needs_background": "light"
          }
        }
      ]
    },
    {
      "cell_type": "markdown",
      "metadata": {
        "id": "3n1jPXHclMym",
        "colab_type": "text"
      },
      "source": [
        "If we want to plot more than one set of bars, it is important that we create a means of distinguishing between them. This can be achieved by making them different colors and including a legend which tells the reader which bars are which."
      ]
    },
    {
      "cell_type": "code",
      "metadata": {
        "id": "JP0WSqFNlMym",
        "colab_type": "code",
        "colab": {
          "base_uri": "https://localhost:8080/",
          "height": 269
        },
        "outputId": "efb8d7fe-b41d-4c70-99e4-3abf0503b5b1"
      },
      "source": [
        "x = [1,3,5,7,9]\n",
        "y = [4,7,2,6,7]\n",
        "\n",
        "x2 = [2,4,6,8,10]\n",
        "y2 = [5,2,5,4,9]\n",
        "\n",
        "plt.bar(x, y, label=\"bars1\", color=\"r\")\n",
        "plt.bar(x2, y2, label=\"bars2\", color=\"g\")\n",
        "\n",
        "plt.axis([0,12,0,10])\n",
        "\n",
        "plt.legend()\n",
        "\n",
        "plt.show()"
      ],
      "execution_count": 11,
      "outputs": [
        {
          "output_type": "display_data",
          "data": {
            "image/png": "[encoded data removed]",
            "text/plain": [
              "<Figure size 432x288 with 1 Axes>"
            ]
          },
          "metadata": {
            "tags": [],
            "needs_background": "light"
          }
        }
      ]
    },
    {
      "cell_type": "markdown",
      "metadata": {
        "id": "kbYzyp2klMyo",
        "colab_type": "text"
      },
      "source": [
        "Hopefully this notebook has given an insightful overview of the matplotlib library. \n",
        "\n",
        "For more information on other Python data visualisation libraries and their application, see the other notebooks in this set."
      ]
    }
  ]
}