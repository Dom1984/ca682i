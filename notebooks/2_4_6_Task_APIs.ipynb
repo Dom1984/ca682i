{
  "nbformat": 4,
  "nbformat_minor": 0,
  "metadata": {
    "colab": {
      "name": "2.4.6 Task APIs.ipynb",
      "provenance": [],
      "authorship_tag": "ABX9TyNLV9BMMNFtEqChyicjkgQ/",
      "include_colab_link": true
    },
    "kernelspec": {
      "name": "python3",
      "display_name": "Python 3"
    }
  },
  "cells": [
    {
      "cell_type": "markdown",
      "metadata": {
        "id": "view-in-github",
        "colab_type": "text"
      },
      "source": [
        "<a href=\"https://colab.research.google.com/github/suzannelittle/ca682i/blob/master/notebooks/2_4_6_Task_APIs.ipynb\" target=\"_parent\"><img src=\"https://colab.research.google.com/assets/colab-badge.svg\" alt=\"Open In Colab\"/></a>"
      ]
    },
    {
      "cell_type": "markdown",
      "metadata": {
        "id": "raL1HZ3C06Pw",
        "colab_type": "text"
      },
      "source": [
        "# Getting data from a web API\n",
        "\n",
        "This notebook shows how to use an API to get data from a web service using the requests library in Python. "
      ]
    },
    {
      "cell_type": "code",
      "metadata": {
        "id": "FjUtq7590yM1",
        "colab_type": "code",
        "colab": {}
      },
      "source": [
        "import requests\n",
        "import pandas as pd\n",
        "import json, time"
      ],
      "execution_count": null,
      "outputs": []
    },
    {
      "cell_type": "markdown",
      "metadata": {
        "id": "7rJIEPeD2BTE",
        "colab_type": "text"
      },
      "source": [
        "First we import the requests library to make easy calls to web endpoints and pandas to create the dataframes.\n",
        "\n",
        "The APIs we will try are:\n",
        "* ISS location now - http://api.open-notify.org/\n",
        "* Open Food Facts - https://world.openfoodfacts.org/data\n"
      ]
    },
    {
      "cell_type": "markdown",
      "metadata": {
        "id": "WZSul_nZ3AjC",
        "colab_type": "text"
      },
      "source": [
        "# Simple query to get the current location of the International Space Station\n",
        "\n",
        "1. Create the URL\n",
        "2. Use requests to make the call to the API endpoint\n",
        "3. Process the returned data"
      ]
    },
    {
      "cell_type": "code",
      "metadata": {
        "id": "I70385ug1E1p",
        "colab_type": "code",
        "colab": {}
      },
      "source": [
        "iss = \"http://api.open-notify.org/iss-now.json\"\n",
        "response = requests.get(iss)"
      ],
      "execution_count": null,
      "outputs": []
    },
    {
      "cell_type": "markdown",
      "metadata": {
        "id": "StAyJojR3bKc",
        "colab_type": "text"
      },
      "source": [
        "How do we know if it worked? REST APIs use common HTTP error codes so lets see what the response code is. "
      ]
    },
    {
      "cell_type": "code",
      "metadata": {
        "id": "XR4Tb3HT3aVy",
        "colab_type": "code",
        "colab": {}
      },
      "source": [
        "print(response.status_code)"
      ],
      "execution_count": null,
      "outputs": []
    },
    {
      "cell_type": "markdown",
      "metadata": {
        "id": "EMbpi5HO3lfH",
        "colab_type": "text"
      },
      "source": [
        "200 means that everything is fine. You can see the status codes and their meanings [here](https://en.wikipedia.org/wiki/List_of_HTTP_status_codes). \n",
        "\n",
        "So how do we get the actual content? "
      ]
    },
    {
      "cell_type": "code",
      "metadata": {
        "id": "R5bE4sun3kgP",
        "colab_type": "code",
        "colab": {}
      },
      "source": [
        "iss_location = response.content\n",
        "print(iss_location)"
      ],
      "execution_count": null,
      "outputs": []
    },
    {
      "cell_type": "markdown",
      "metadata": {
        "id": "8_NktS5B34bK",
        "colab_type": "text"
      },
      "source": [
        "Looks like some JSON text. Let's convert this to a python object. "
      ]
    },
    {
      "cell_type": "code",
      "metadata": {
        "id": "B4rwhJoW328P",
        "colab_type": "code",
        "colab": {}
      },
      "source": [
        "iss_object = json.loads(iss_location)"
      ],
      "execution_count": null,
      "outputs": []
    },
    {
      "cell_type": "code",
      "metadata": {
        "id": "udZtSZZw4C0v",
        "colab_type": "code",
        "colab": {}
      },
      "source": [
        "iss_object"
      ],
      "execution_count": null,
      "outputs": []
    },
    {
      "cell_type": "code",
      "metadata": {
        "id": "bDyI0wf_4IBZ",
        "colab_type": "code",
        "colab": {}
      },
      "source": [
        "print(\"The location of the ISS at %s was %s latitude and %s longitude.\" % (time.ctime(iss_object['timestamp']),iss_object['iss_position']['latitude'], iss_object['iss_position']['longitude']))"
      ],
      "execution_count": null,
      "outputs": []
    },
    {
      "cell_type": "markdown",
      "metadata": {
        "id": "qulW05RH4sXi",
        "colab_type": "text"
      },
      "source": [
        "Incidentally notice that the timestamp data is a number that I've converted using builtin python options while the latitude and longitude are both strings (%s rather than %d). Recall possible sources of data errors from Topics 2 & 3!\n",
        "\n",
        "Let's put all of that together in one cell so you can see that the data updates each time you call the API. "
      ]
    },
    {
      "cell_type": "code",
      "metadata": {
        "id": "O3oO-B1d4g4G",
        "colab_type": "code",
        "colab": {}
      },
      "source": [
        "response = requests.get(iss)\n",
        "if response.status_code != 200:\n",
        "  print(\"Error: %d\" %(response.status_code))\n",
        "else:\n",
        "  iss_location = response.content\n",
        "  iss_object = json.loads(iss_location)\n",
        "  print(\"The location of the ISS at %s was %s latitude and %s longitude.\" % (time.ctime(iss_object['timestamp']),iss_object['iss_position']['latitude'], iss_object['iss_position']['longitude']))"
      ],
      "execution_count": null,
      "outputs": []
    },
    {
      "cell_type": "markdown",
      "metadata": {
        "id": "U4gEE1Rd52zs",
        "colab_type": "text"
      },
      "source": [
        "# Open Trivia Database\n",
        "\n",
        "Can you repeat the steps above to get 10 random trivia questions from the Open Trivia Database? The URL to use is https://opentdb.com/api.php?amount=10"
      ]
    },
    {
      "cell_type": "code",
      "metadata": {
        "id": "aHsLITau5FM4",
        "colab_type": "code",
        "colab": {}
      },
      "source": [
        "questions = "
      ],
      "execution_count": null,
      "outputs": []
    },
    {
      "cell_type": "code",
      "metadata": {
        "id": "2f8NkpPq6h9J",
        "colab_type": "code",
        "colab": {}
      },
      "source": [
        "print questions"
      ],
      "execution_count": null,
      "outputs": []
    },
    {
      "cell_type": "markdown",
      "metadata": {
        "id": "Pya_FQJe6wE2",
        "colab_type": "text"
      },
      "source": [
        "Take a look at the documentation. Can you get 5 easy questions on the topic of Entertainment: Books?"
      ]
    },
    {
      "cell_type": "code",
      "metadata": {
        "id": "vhHwYbNS9wpC",
        "colab_type": "code",
        "colab": {}
      },
      "source": [
        "books_quiz = "
      ],
      "execution_count": null,
      "outputs": []
    },
    {
      "cell_type": "markdown",
      "metadata": {
        "id": "fiJnxodT7M2P",
        "colab_type": "text"
      },
      "source": [
        "If you re-run the query, do you get the same 5 questions?"
      ]
    },
    {
      "cell_type": "markdown",
      "metadata": {
        "id": "XP_KXU8P7RNW",
        "colab_type": "text"
      },
      "source": [
        "# Open Food Database\n",
        "\n",
        "Can you use the [Open Food Database API](https://world.openfoodfacts.org/data) to get information on your favourite food item? This works best with packaged foods that have a bar code. \n",
        "\n",
        "Example bar code: 9300650018860\n",
        "\n",
        "Note that the Open Food Database API is not for scraping data (see the next activity) as they provide a dump of the database to download if needed. \n",
        "\n",
        "Try loading the results into a pandas dataframe using `pd.read_json(response.content)`."
      ]
    },
    {
      "cell_type": "code",
      "metadata": {
        "id": "WrgeAa4g8Swt",
        "colab_type": "code",
        "colab": {}
      },
      "source": [
        "food = \n",
        "df = pd.read_json(food.content)"
      ],
      "execution_count": null,
      "outputs": []
    },
    {
      "cell_type": "code",
      "metadata": {
        "id": "V2DsZFwF8gY4",
        "colab_type": "code",
        "colab": {}
      },
      "source": [
        "df"
      ],
      "execution_count": null,
      "outputs": []
    }
  ]
}